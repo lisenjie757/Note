{
 "cells": [
  {
   "cell_type": "code",
   "execution_count": 1,
   "id": "c977fbff",
   "metadata": {},
   "outputs": [
    {
     "name": "stderr",
     "output_type": "stream",
     "text": [
      "/home/lsj/.conda/envs/pt12/lib/python3.8/site-packages/tqdm/auto.py:22: TqdmWarning: IProgress not found. Please update jupyter and ipywidgets. See https://ipywidgets.readthedocs.io/en/stable/user_install.html\n",
      "  from .autonotebook import tqdm as notebook_tqdm\n"
     ]
    }
   ],
   "source": [
    "import torch\n",
    "from torch.utils.data import Dataset\n",
    "from torchvision import datasets\n",
    "from torchvision.transforms import ToTensor\n",
    "import matplotlib.pyplot as plt"
   ]
  },
  {
   "cell_type": "markdown",
   "id": "50c07ebc",
   "metadata": {},
   "source": [
    "# 加载预加载数据集\n",
    "## root ：训练集/测试集存储路径\n",
    "## train ：确定是训练集还是测试集\n",
    "## download=True ：如果root不可用 从互联网上下载数据\n",
    "## transform / target_transform ：指定特征和标签的转换"
   ]
  },
  {
   "cell_type": "code",
   "execution_count": 2,
   "id": "01a38c51",
   "metadata": {},
   "outputs": [],
   "source": [
    "training_data = datasets.FashionMNIST(\n",
    "    root = \"../data\",\n",
    "    train = True,\n",
    "    download = True,\n",
    "    transform = ToTensor()\n",
    ")\n",
    "\n",
    "test_data = datasets.FashionMNIST(\n",
    "    root = \"../data\",\n",
    "    train = False,\n",
    "    download = True,\n",
    "    transform = ToTensor()\n",
    ")"
   ]
  },
  {
   "cell_type": "markdown",
   "id": "b24bc4d5",
   "metadata": {},
   "source": [
    "# 迭代和可视化数据集"
   ]
  },
  {
   "cell_type": "code",
   "execution_count": 3,
   "id": "c56e43dd",
   "metadata": {},
   "outputs": [
    {
     "data": {
      "image/png": "[encoded data removed]",
      "text/plain": [
       "<Figure size 576x576 with 9 Axes>"
      ]
     },
     "metadata": {
      "needs_background": "light"
     },
     "output_type": "display_data"
    }
   ],
   "source": [
    "labels_map = {\n",
    "    0:\"T-Shirt\",\n",
    "    1: \"Trouser\",\n",
    "    2: \"Pullover\",\n",
    "    3: \"Dress\",\n",
    "    4: \"Coat\",\n",
    "    5: \"Sandal\",\n",
    "    6: \"Shirt\",\n",
    "    7: \"Sneaker\",\n",
    "    8: \"Bag\",\n",
    "    9: \"Ankle Boot\",\n",
    "}\n",
    "figure = plt.figure(figsize=(8,8))\n",
    "cols,rows = 3,3\n",
    "for i in range(1,cols*rows+1):\n",
    "    sample_idx = torch.randint(len(training_data),size=(1,)).item()\n",
    "    img,label =  training_data[sample_idx]\n",
    "    figure.add_subplot(rows,cols,i)\n",
    "    plt.title(labels_map[label])\n",
    "    plt.axis(\"off\")\n",
    "    plt.imshow(img.squeeze(),cmap=\"gray\")\n",
    "plt.show()"
   ]
  },
  {
   "cell_type": "markdown",
   "id": "2322c7b1",
   "metadata": {},
   "source": [
    "# 创建自定义数据集\n",
    "## __init__ ：创建类对象时运行一次 包括图像 标注 和 变换\n",
    "## __len__ ：返回数据集样本数\n",
    "## __getitem__ ：根据索引加载和返回数据样本 包括图像 标注 和 变换"
   ]
  },
  {
   "cell_type": "code",
   "execution_count": 4,
   "id": "52d6e674",
   "metadata": {},
   "outputs": [],
   "source": [
    "import os\n",
    "import pandas as pd\n",
    "from torchvision.io import read_image\n",
    "\n",
    "class CustomImageDataset(Dataset):\n",
    "    def __init__(self,annotations_file,img_dir,transform=None,target_transform=None):\n",
    "        self.img_labels = pd.read_csv(annotations_file)\n",
    "        self.img_dir = img_dir\n",
    "        self.transform = transform\n",
    "        self.target_transform = target_transform\n",
    "        \n",
    "    def __len__(self):\n",
    "        return len(self.img_labels)\n",
    "    \n",
    "    def __getitem__(self,idx):\n",
    "        img_path = os.path.join(self.img_dir,self.img_labels.iloc[idx,0])\n",
    "        image = read_image(img_path)\n",
    "        label = self.img_labels.iloc[idx,1]\n",
    "        if self.transform:\n",
    "            image = self.transform(image)\n",
    "        if self.target_transform:\n",
    "            label = self.target_transform(label)\n",
    "        return image,label"
   ]
  },
  {
   "cell_type": "markdown",
   "id": "9bf733cb",
   "metadata": {},
   "source": [
    "# 使用DataLoaders训练Data\n",
    "## DataLoader的作用：minibatches采样，每epoch reshuffle data，多线程加速"
   ]
  },
  {
   "cell_type": "code",
   "execution_count": 5,
   "id": "923d10cd",
   "metadata": {},
   "outputs": [],
   "source": [
    "from torch.utils.data import DataLoader\n",
    "\n",
    "train_dataloader = DataLoader(training_data,batch_size=64,shuffle=True)\n",
    "test_dataloader = DataLoader(test_data,batch_size=64,shuffle=True)"
   ]
  },
  {
   "cell_type": "markdown",
   "id": "eeeef6cf",
   "metadata": {},
   "source": [
    "# 通过DataLoader迭代"
   ]
  },
  {
   "cell_type": "code",
   "execution_count": 6,
   "id": "7cf2e31e",
   "metadata": {},
   "outputs": [
    {
     "name": "stdout",
     "output_type": "stream",
     "text": [
      "torch.Size([64, 1, 28, 28])\n",
      "torch.Size([64])\n"
     ]
    },
    {
     "data": {
      "image/png": "[encoded data removed]",
      "text/plain": [
       "<Figure size 432x288 with 1 Axes>"
      ]
     },
     "metadata": {
      "needs_background": "light"
     },
     "output_type": "display_data"
    },
    {
     "name": "stdout",
     "output_type": "stream",
     "text": [
      "tensor(1)\n"
     ]
    }
   ],
   "source": [
    "train_features,train_labels = next(iter(train_dataloader))\n",
    "print(train_features.size())\n",
    "print(train_labels.size())\n",
    "img = train_features[0].squeeze()\n",
    "label = train_labels[0]\n",
    "plt.imshow(img,cmap=\"gray\")\n",
    "plt.show()\n",
    "print(label)"
   ]
  }
 ],
 "metadata": {
  "kernelspec": {
   "display_name": "pt12",
   "language": "python",
   "name": "pt12"
  },
  "language_info": {
   "codemirror_mode": {
    "name": "ipython",
    "version": 3
   },
   "file_extension": ".py",
   "mimetype": "text/x-python",
   "name": "python",
   "nbconvert_exporter": "python",
   "pygments_lexer": "ipython3",
   "version": "3.9.13"
  }
 },
 "nbformat": 4,
 "nbformat_minor": 5
}
